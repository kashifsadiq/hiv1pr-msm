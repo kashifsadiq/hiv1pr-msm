{
 "cells": [
  {
   "cell_type": "markdown",
   "metadata": {},
   "source": [
    "# HIV-1 protease Markov State Model, Gating Factor Calculation and Conformational Analysis\n",
    "\n",
    "Author: S. Kashif Sadiq\n",
    "\n",
    "Correspondence: kashif.sadiq@embl.de, Affiliation: 1. Heidelberg Institute for Theoretical Studies, HITS gGmbH 2. European Moelcular Biology Laboratory\n",
    "\n",
    "This notebook contains the computational workflow for analysing (MD) simulations and Markov state model analyses of apo HIV-1 protease conformational gating for the manuscript:\n",
    "\n",
    "S.Kashif. Sadiq‡, Abraham Muñiz Chicharro, Patrick Friedrich, Rebecca Wade (2021)   A multiscale approach for computing gated ligand binding from molecular dynamics and Brownian dynamics simulations\n",
    "\n",
    "########################################################################################################################################"
   ]
  },
  {
   "cell_type": "markdown",
   "metadata": {},
   "source": [
    "### Import modules"
   ]
  },
  {
   "cell_type": "code",
   "execution_count": null,
   "metadata": {},
   "outputs": [],
   "source": [
    "%pylab inline\n",
    "import hivprgating\n",
    "from hivprgating import *"
   ]
  },
  {
   "cell_type": "markdown",
   "metadata": {},
   "source": [
    "## Markov State Model Analysis"
   ]
  },
  {
   "cell_type": "markdown",
   "metadata": {},
   "source": [
    "### Load coordinates and trajectory list"
   ]
  },
  {
   "cell_type": "code",
   "execution_count": null,
   "metadata": {},
   "outputs": [],
   "source": [
    "#Specify the details of where the trajs are and the top file\n",
    "indir = '../traj/'\n",
    "topfile =  '../reference/protein.pdb'\n",
    "#Specify list of trajs from a matrix of: batch sim frames\n",
    "#Load data on number of frame for each trajectory\n",
    "fname = '../traj/sims_array.dat'\n",
    "sims_array = read_int_matrix(fname)\n",
    "#Choose list of trajs from array: \n",
    "traj_list = traj_list_from_sims_array_xtc(sims_array, indir)\n",
    "\n",
    "#Featurizer\n",
    "feat = coor.featurizer(topfile)"
   ]
  },
  {
   "cell_type": "markdown",
   "metadata": {},
   "source": [
    "### Load Pre-Computed Multidimensional Feature Data"
   ]
  },
  {
   "cell_type": "code",
   "execution_count": null,
   "metadata": {},
   "outputs": [],
   "source": [
    "#Number of snapshot per trajectory\n",
    "nsnaps=1300\n",
    "\n",
    "# Get lambda, Alpha/beta and firemans grip coordinates as a pyEMMA data object\n",
    "dir_array=['../features/lambda']\n",
    "\n",
    "Y = multidir_obj(dir_array, sims_array,nsnaps)\n",
    "\n",
    "# Convert to 2D matrix of all features and snapshots\n",
    "Z=np.reshape(Y,(np.shape(Y)[0]*np.shape(Y)[1],np.shape(Y)[2]))\n",
    "\n",
    "#Adds lambda modulus as a column\n",
    "Z=np.transpose(np.vstack((np.transpose(Z),np.linalg.norm(Z[:,0:3],axis=1))))\n",
    "\n",
    "# 3column lambda projection data in cylindrical coordinates\n",
    "#Introduce 50 deg offset to zero point of angle\n",
    "Z_cyl=xyz_to_cyl_coords(Z[:,:3],50)\n",
    "#Adds cylindrical coords to Z as 3 columns at end\n",
    "Z=np.hstack((Z,Z_cyl))\n",
    "\n",
    "#Picks out the first three columns - later could be used for MSM\n",
    "Yred=[Y[x][:,0:3] for x in range(np.shape(Y)[0])]\n",
    "\n",
    "#Picks out the first three columns of Y but in cylindrical coordinates\n",
    "Yred_cyl=[xyz_to_cyl_coords(Y[x][:,0:3],50) for x in range(np.shape(Y)[0])]\n",
    "\n",
    "#Here we select a 461 subset of data up to 50 ns representing size of earlier data set\n",
    "#Randomly pick 461 trajs from all trajs started from semi-open (500)\n",
    "trajlist=np.random.permutation(np.where(sims_array[:,1]<=500)[0])[:461]\n",
    "#trajlist=[x for x in range(461)]\n",
    "t_end=500\n",
    "#Z2 are the indices in Z marking the location of the subset data\n",
    "Z2_inds=[j for i in [[trajid*nsnaps + i for i in range(t_end)] for trajid in trajlist] for j in i]\n",
    "\n",
    "#Labelling of each column in Z matrix data\n",
    "Zlabels=[\"$\\lambda_{x}$ (\\AA)\",\"$\\lambda_{y}$ (\\AA)\",\"$\\lambda_{z}$ (\\AA)\",\n",
    "        \"$\\lambda$ (\\AA)\",\"$\\lambda_{r}$ (\\AA)\",\"$\\lambda_{\\Theta}$ ($^{\\circ}$)\",\"$\\lambda_{z}$ (\\AA)\"]\n"
   ]
  },
  {
   "cell_type": "markdown",
   "metadata": {},
   "source": [
    "### Cluster Feature Data into Microstates"
   ]
  },
  {
   "cell_type": "code",
   "execution_count": null,
   "metadata": {},
   "outputs": [],
   "source": [
    "n_clusters = 100   # number of k-means clusters\n",
    "\n",
    "#To compute clusters based on the 3D lambda metric in cylindircal polar coords - Note, this will compute a new clustering\n",
    "#lambda_cl_obj = coor.cluster_kmeans(Yred_cyl, k=n_clusters, tolerance=1e-05, max_iter=100)\n",
    "\n",
    "### Save and Load Previous Cluster object\n",
    "#lambda_cl_obj.save('./MSM_obj/cl_obj100_lambda_cyl')\n",
    "#To load the precomputed clustering used in the manuscript:\n",
    "lambda_cl_obj=pyemma.load('../MSM_obj/cl_obj100_lambda_cyl')\n",
    "\n",
    "#Create discretized trajectories - where each snapshot is assigned to belong to a cluster e.g. microstate\n",
    "lambda_dtrajs = lambda_cl_obj.dtrajs\n"
   ]
  },
  {
   "cell_type": "markdown",
   "metadata": {},
   "source": [
    "### Relaxation Timescale analysis"
   ]
  },
  {
   "cell_type": "code",
   "execution_count": null,
   "metadata": {},
   "outputs": [],
   "source": [
    "#Compute relaxation timescales\n",
    "#lambda_its = msm.timescales_msm(lambda_dtrajs, lags=500, nits=12, errors='bayes')\n",
    "\n",
    "### Save and Load Previous Implied Timescales Object\n",
    "#lambda_its.save('./MSM_obj/its_cl100_lambda_cyl')\n",
    "##To load the precomputed relaxation timescales obtained for the manuscript\n",
    "lambda_its=pyemma.load('../MSM_obj/its_cl100_lambda_cyl')"
   ]
  },
  {
   "cell_type": "code",
   "execution_count": null,
   "metadata": {},
   "outputs": [],
   "source": [
    "#Plot Timescale curves\n",
    "plot_its(mplt,lambda_its,50,1000)\n",
    "\n",
    "#Plot Ratio of Timescale curves    \n",
    "plot_timescale_ratios(lambda_its)\n",
    "#save_figure('its.png')\n",
    "\n",
    "# Plot Kinetic Variance\n",
    "plot_kinetic_variance(lambda_its)\n",
    "#save_figure('kin_var.png')\n",
    "\n",
    "#save_current_fig2(plt, '../figures/its.png')"
   ]
  },
  {
   "cell_type": "markdown",
   "metadata": {},
   "source": [
    "### MSM Analysis at chosen lag time"
   ]
  },
  {
   "cell_type": "code",
   "execution_count": null,
   "metadata": {},
   "outputs": [],
   "source": [
    "msm_lag = 300\n",
    "#To compute MSM based on defined lag time\n",
    "#M = msm.bayesian_markov_model(lambda_dtrajs, msm_lag)\n",
    "\n",
    "### Save and Load Previous MSM\n",
    "#M.save('./MSM_obj/M_cl100_tau30')\n",
    "#To load precomputed MSM used in the manuscript\n",
    "M=pyemma.load('../MSM_obj/M_cl100_tau30')"
   ]
  },
  {
   "cell_type": "code",
   "execution_count": null,
   "metadata": {},
   "outputs": [],
   "source": [
    "M_stat=M.stationary_distribution\n",
    "PI_all = np.hstack([M_stat[dtraj] for dtraj in M.discrete_trajectories_full])\n",
    "\n",
    "#np.set_printoptions(precision=3)\n",
    "#print(PI_all)\n",
    "#print(M_stat)"
   ]
  },
  {
   "cell_type": "markdown",
   "metadata": {},
   "source": [
    "### PCCA Observation probability and Membership matrices"
   ]
  },
  {
   "cell_type": "code",
   "execution_count": null,
   "metadata": {},
   "outputs": [],
   "source": [
    "n_sets = 5\n",
    "M.pcca(n_sets)\n",
    "pccaX = M.metastable_distributions\n",
    "pccaM = M.metastable_memberships  # get PCCA memberships\n",
    "pcca_sets = M.metastable_sets\n",
    "pcca_assign = M.metastable_assignments"
   ]
  },
  {
   "cell_type": "markdown",
   "metadata": {},
   "source": [
    "### Hidden Markov Model (HMM) approach - Baum-Welch Optimized Coarse-Graining"
   ]
  },
  {
   "cell_type": "code",
   "execution_count": null,
   "metadata": {},
   "outputs": [],
   "source": [
    "#This takes a LONG TIME!\n",
    "#hmm = M.coarse_grain(5)\n",
    "\n",
    "# Save and Load previous HMM - This file is large ~ 2Gb \n",
    "#hmm.save('./MSM_obj/hmm_cl100_tau30_meta5')\n",
    "hmm=pyemma.load('../MSM_obj/hmm_cl100_tau30_meta5')"
   ]
  },
  {
   "cell_type": "code",
   "execution_count": null,
   "metadata": {},
   "outputs": [],
   "source": [
    "hmm_dist = hmm.metastable_distributions\n",
    "hmm_membership = hmm.metastable_memberships  # get PCCA memberships\n",
    "# memberships over trajectory\n",
    "hmm_dist_all = [np.hstack([hmm_dist[i,:][dtraj] for dtraj in hmm.discrete_trajectories_full]) for i in range(n_sets)]\n",
    "hmm_mem_all = [np.hstack([hmm_membership[:,i][dtraj] for dtraj in hmm.discrete_trajectories_full]) for i in range(n_sets)]\n",
    "hmm_sets = hmm.metastable_sets"
   ]
  },
  {
   "cell_type": "markdown",
   "metadata": {},
   "source": [
    "### Plot projected observation probability distribution of microstates across collective variable landscape "
   ]
  },
  {
   "cell_type": "code",
   "execution_count": null,
   "metadata": {},
   "outputs": [],
   "source": [
    "cl_obj=lambda_cl_obj\n",
    "MSM_dims=np.array([4,5,6])\n",
    "MSM_ticks=[[0,10,20,30,40], [0,100,200,300], [-10,0,10]]\n",
    "\n",
    "dim=[5,4]\n",
    "fig, axes = subplots(1, 5, figsize=(16, 3))\n",
    "matplotlib.rcParams.update({'font.size': 12})\n",
    "axes = axes.flatten()\n",
    "\n",
    "np.seterr(invalid='warn') \n",
    "for k in range(n_sets):\n",
    "        plot_sampled_density(k, Z[:,dim[0]], Z[:,dim[1]], hmm_dist_all[k],  dim, MSM_dims, MSM_ticks, Zlabels, \n",
    "                             ax=axes[k], cmap=\"Spectral\", cbar=False)     \n",
    "        ax=axes[k]\n",
    "        mstate_color=['yellow','red','magenta','blue','black']\n",
    "        ax.plot(cl_obj.clustercenters[hmm_sets[k],\n",
    "np.where(MSM_dims==dim[0])[0][0]],cl_obj.clustercenters[hmm_sets[k],\n",
    "np.where(MSM_dims==dim[1])[0][0]], linewidth=0, marker='o', markersize=2, color='black')\n",
    "        \n",
    "#fig.set_size_inches(15, 3)\n",
    "#save_current_fig2(plt, '../figures/hmm_distributions_theta_r.png',pad=0.3)\n",
    "\n",
    "plt.show()"
   ]
  },
  {
   "cell_type": "code",
   "execution_count": null,
   "metadata": {},
   "outputs": [],
   "source": [
    "dim=[5,6]\n",
    "fig, axes = subplots(1, 5, figsize=(16, 3))\n",
    "matplotlib.rcParams.update({'font.size': 12})\n",
    "axes = axes.flatten()\n",
    "\n",
    "np.seterr(invalid='warn') \n",
    "for k in range(n_sets):\n",
    "        plot_sampled_density(k, Z[:,dim[0]], Z[:,dim[1]], hmm_dist_all[k],  dim, MSM_dims, MSM_ticks, Zlabels, \n",
    "                             ax=axes[k], cmap=\"Spectral\", cbar=False)     \n",
    "        ax=axes[k]\n",
    "        mstate_color=['yellow','red','magenta','blue','black']\n",
    "        ax.plot(cl_obj.clustercenters[hmm_sets[k],\n",
    "np.where(MSM_dims==dim[0])[0][0]],cl_obj.clustercenters[hmm_sets[k],\n",
    "np.where(MSM_dims==dim[1])[0][0]], linewidth=0, marker='o', markersize=2, color='black')\n",
    "        \n",
    "#save_current_fig2(plt, '../figures/hmm_distributions_theta_z.png',pad=0.1)"
   ]
  },
  {
   "cell_type": "markdown",
   "metadata": {},
   "source": [
    "### Chapman-Kolmogorov test"
   ]
  },
  {
   "cell_type": "code",
   "execution_count": null,
   "metadata": {},
   "outputs": [],
   "source": [
    "m=5\n",
    "ck = M.cktest(m, memberships=hmm_membership, mlags=4, err_est=False)\n",
    "#ck = M.cktest(5)"
   ]
  },
  {
   "cell_type": "code",
   "execution_count": null,
   "metadata": {},
   "outputs": [],
   "source": [
    "#matplotlib.rcParams.update({'font.size': 14})\n",
    "plt.rc('text', usetex=False)\n",
    "mplt.plot_cktest(ck, diag=True, figsize=(15,9), layout=(m,m), padding_top=0.1, y01=True, padding_between=0.3, dt=0.1, units='ns')\n",
    "\n",
    "\n",
    "#save_current_fig2(plt, '../figures/cktest.png')\n",
    "plt.show()\n",
    "\n"
   ]
  },
  {
   "cell_type": "markdown",
   "metadata": {},
   "source": [
    "### Free Energy Plot Based on MSM Distribution with Microstate Cluster Centers"
   ]
  },
  {
   "cell_type": "code",
   "execution_count": null,
   "metadata": {},
   "outputs": [],
   "source": [
    "plt.rc('text', usetex=True)\n",
    "cl_obj=lambda_cl_obj\n",
    "MSM_dims=np.array([4,5,6])\n",
    "dim=[5,4]\n",
    "mstate_color=['yellow','red','magenta','blue','black']\n",
    "mpl.rcParams.update({'font.size': 12})\n",
    "plt=plot_weighted_free_energy_landscape(Z,plt,dim[0],dim[1],Zlabels,cmap='Spectral',cbar=True,wg=PI_all,lev_max=0,shallow=True)\n",
    "#Unweighted PMF\n",
    "#plot_free_energy_landscape(Z,plt,dim[0],dim[1],Zlabels,cmap=\"Spectral\")\n",
    "\n",
    "#Plot All Cluster centers\n",
    "#plot(cl_obj.clustercenters[:,np.where(MSM_dims==dim[0])[0][0]],cl_obj.clustercenters[:,np.where(MSM_dims==dim[1])[0][0]], linewidth=0, marker='o', markersize=8, color='k')\n",
    "\n",
    "#Once HMM sets has been calculated - Calculate clusters belonging to each HMM metastable state\n",
    "plot_metastable_sets(plt,cl_obj,hmm_sets,MSM_dims,dim,mstate_color)\n",
    "\n",
    "#save_current_fig2(plt, '../figures/pmf_theta_r.png')"
   ]
  },
  {
   "cell_type": "code",
   "execution_count": null,
   "metadata": {},
   "outputs": [],
   "source": [
    "plt.rc('text', usetex=True)\n",
    "cl_obj=lambda_cl_obj\n",
    "MSM_dims=np.array([4,5,6])\n",
    "dim=[5,6]\n",
    "mstate_color=['yellow','red','magenta','blue','black']\n",
    "mpl.rcParams.update({'font.size': 12})\n",
    "plt=plot_weighted_free_energy_landscape(Z,plt,dim[0],dim[1],Zlabels,cmap='Spectral',cbar=True,wg=PI_all,lev_max=0,shallow=True)\n",
    "#Unweighted PMF\n",
    "#plot_free_energy_landscape(Z,plt,dim[0],dim[1],Zlabels,cmap=\"Spectral\")\n",
    "\n",
    "#Plot All Cluster centers\n",
    "#plot(cl_obj.clustercenters[:,np.where(MSM_dims==dim[0])[0][0]],cl_obj.clustercenters[:,np.where(MSM_dims==dim[1])[0][0]], linewidth=0, marker='o', markersize=8, color='k')\n",
    "\n",
    "#Once HMM sets has been calculated - Calculate clusters belonging to each HMM metastable state\n",
    "plot_metastable_sets(plt,cl_obj,hmm_sets,MSM_dims,dim,mstate_color)\n",
    "\n",
    "#save_current_fig2(plt, '../figures/pmf_theta_z.png')"
   ]
  },
  {
   "cell_type": "markdown",
   "metadata": {},
   "source": [
    "### Macrostate thermodynamics, kinetics and gating factor calculation"
   ]
  },
  {
   "cell_type": "code",
   "execution_count": null,
   "metadata": {},
   "outputs": [],
   "source": [
    "np.set_printoptions(precision=3,suppress=True)    \n",
    "\n",
    "tau=30.\n",
    "rho=hmm.pi\n",
    "P=hmm.transition_matrix\n",
    "kon=1000.*P/tau\n",
    "init=[0,2]\n",
    "fin=[1,3,4]\n",
    "nd_kon=nondiag_rates(kon)\n",
    "gam_kon= gamma_factor(kon,init,fin)\n",
    "tau_c= tau_c(kon,init,fin)\n",
    "\n",
    "#Macrostate thermodynamics \n",
    "#stationary distribution\n",
    "print(rho)\n",
    "#Free energy of macrostates\n",
    "print(-0.596*np.log(rho))\n",
    "#Zero-maximumed free energy of macrostates\n",
    "print(-0.596*np.log(rho)-np.max(-0.596*np.log(rho)))\n",
    "#Macrostate Transition kinetics matrix \n",
    "print(nd_kon)\n",
    "#Conformation gating factor\n",
    "print(gam_kon)\n",
    "### Conformational Transition timescale\n",
    "print(tau_c)"
   ]
  },
  {
   "cell_type": "markdown",
   "metadata": {},
   "source": [
    "### Kinetic network of states"
   ]
  },
  {
   "cell_type": "code",
   "execution_count": null,
   "metadata": {},
   "outputs": [],
   "source": [
    "#states 0 to 5 correspond to C1 - C5 respectively\n",
    "\n",
    "pos=np.array([[-5, 1], [2, 3], [5, 0], [-1, 0], [0, 8]])    \n",
    "#pos=np.array([[0, -5], [5, 0], [5, -5]])    \n",
    "#pos=np.array([[-3, -1], [1, 3]])    \n",
    "mplt.plot_markov_model(hmm, pos=pos, minflux=3e-4, arrow_labels=kon, arrow_label_format='%.3f')\n",
    "gca().set_frame_on(False)\n"
   ]
  },
  {
   "cell_type": "markdown",
   "metadata": {},
   "source": [
    "## Representative conformations"
   ]
  },
  {
   "cell_type": "markdown",
   "metadata": {},
   "source": [
    "### All Microstates Analysis"
   ]
  },
  {
   "cell_type": "code",
   "execution_count": null,
   "metadata": {},
   "outputs": [],
   "source": [
    "\n",
    "#mac0=micro_order(Xsets,Xdist,0)\n",
    "\n",
    "Xdist=hmm_dist\n",
    "Xsets=hmm_sets\n",
    "\n",
    "all_mac=np.empty((0,4))\n",
    "for i in range(len(Xsets)):\n",
    "    mac=micro_order(Xsets,Xdist,i)\n",
    "    mac=np.hstack(( i*np.ones((np.shape(mac)[0],1)).astype(int), mac ))\n",
    "    all_mac=np.vstack((all_mac,mac))\n",
    "\n",
    "\n",
    "#Count frames of each microstate and append microstate stationary distribution and frame count to all_mac\n",
    "all_mac_sets=all_mac[:,1].astype(int)\n",
    "frame_count=np.empty((0,2))\n",
    "for i in all_mac_sets:\n",
    "    macro_state=all_mac[i,0].astype(int)\n",
    "    micro_state=i\n",
    "    micro_confs, all_snaps=micro_snap_extractor(macro_state, Xdist, [micro_state], lambda_dtrajs)\n",
    "    frame_count=np.vstack((frame_count,micro_confs[0])).astype(int)\n",
    "\n",
    "    \n",
    "all_mac=np.hstack((all_mac, M.pi[all_mac[:,1].astype(int)].reshape(-1,1), frame_count[:,1].reshape(-1,1)))\n",
    "\n",
    "# Table of macrostate, top micorstates, observation probability of the corresponding microstate\n",
    "#print(all_mac[:,:3])"
   ]
  },
  {
   "cell_type": "markdown",
   "metadata": {},
   "source": [
    "### Microstates plot"
   ]
  },
  {
   "cell_type": "code",
   "execution_count": null,
   "metadata": {},
   "outputs": [],
   "source": [
    "\n",
    "#Select specific set of microstates that belong to a given metastable state\n",
    "cl_obj=lambda_cl_obj\n",
    "MSM_dims=np.array([4,5,6])\n",
    "dim=[5,4]\n",
    "mstate_color=['y','red','magenta','blue','black']\n",
    "matplotlib.rcParams.update({'font.size': 12})\n",
    "plt=plot_weighted_free_energy_landscape(Z,plt,dim[0],dim[1],Zlabels,fill=False,contour_label=False, \n",
    "                                        contour_color='0.70',wg=PI_all,lev_max=0,shallow=True,fsize=(16,16))\n",
    "\n",
    "#Plot chi_conf_sets specific microstates\n",
    "#cl_x=cl_obj.clustercenters[sets,np.where(MSM_dims==dim[0])[0][0]]\n",
    "#cl_y=cl_obj.clustercenters[sets,np.where(MSM_dims==dim[1])[0][0]]\n",
    "#plot(cl_x,cl_y, linewidth=0, marker='o', markersize=4, color='red')\n",
    "#plt=annotate_microstates(plt,sets,cl_x,cl_y)\n",
    "\n",
    "#plot_metastable_sets(plt,cl_obj,best_micro,MSM_dims,dim,mstate_color,msize=10,annotate=True, textsize=30)\n",
    "#plot_metastable_sets(plt,cl_obj,top_sets,MSM_dims,dim,mstate_color,msize=8,annotate=True,textsize=16)\n",
    "plot_metastable_sets(plt,cl_obj,hmm_sets,MSM_dims,dim,mstate_color,msize=4,annotate=True)\n",
    "#plot_metastable_sets(plt,cl_obj,pcca_sets,MSM_dims,dim,mstate_color,msize=4,annotate=True)\n",
    "\n",
    "\n",
    "#save_current_fig2(plt, '../figures/labelled_microstates_theta_r.png')\n",
    "\n"
   ]
  },
  {
   "cell_type": "markdown",
   "metadata": {},
   "source": [
    "### Identify representative microstates and snapshots from X distributions"
   ]
  },
  {
   "cell_type": "code",
   "execution_count": null,
   "metadata": {},
   "outputs": [],
   "source": [
    "energy_factor=1\n",
    "top_sets=[]\n",
    "top_sets_all=[]\n",
    "top_b_set=[]\n",
    "for i in range(len(Xsets)):\n",
    "    chi_conf_sets, b_set = top_microstates(i, Xdist, Xsets, energy_factor)\n",
    "    top_sets.append(chi_conf_sets[:5])\n",
    "    top_sets_all.append(chi_conf_sets)\n",
    "    top_b_set.append(b_set)\n",
    "    \n",
    "best_micro=[np.array(x[0]).reshape(1) for x in top_sets]    \n",
    "\n",
    "#Number of microstates in each macrostate\n",
    "print([len(top_sets_all[x]) for x in range(len(top_sets_all))])\n",
    "\n",
    "print(top_sets_all)\n",
    "#print(top_b_set)\n",
    "print(best_micro)\n",
    "\n",
    "\n",
    "bm1=[np.array(top_sets[0][:2]).reshape(2)]\n",
    "bm2=[np.array(x[0]).reshape(1) for x in top_sets[1:]]\n",
    "bm_states=bm1+bm2\n",
    "print(bm_states)\n",
    "\n",
    "print(top_sets)\n"
   ]
  },
  {
   "cell_type": "markdown",
   "metadata": {},
   "source": [
    "### Best and Top microstates"
   ]
  },
  {
   "cell_type": "code",
   "execution_count": null,
   "metadata": {},
   "outputs": [],
   "source": [
    "#Select specific set of microstates that belong to a given metastable state\n",
    "cl_obj=lambda_cl_obj\n",
    "MSM_dims=np.array([4,5,6])\n",
    "\n",
    "\n",
    "mstate_color=['y','red','magenta','blue','black']\n",
    "matplotlib.rcParams.update({'font.size': 12})\n",
    "\n",
    "fig = plt.figure(figsize=(15, 6)) \n",
    "fig.subplots_adjust(hspace=0.4, wspace=0.4)\n",
    "gs = gridspec.GridSpec(1, 2)\n",
    "\n",
    "ax=plt.subplot(gs[0])\n",
    "dim=[5,4]\n",
    "plt=plot_weighted_free_energy_landscape(Z,plt,dim[0],dim[1],Zlabels,fill=False,contour_label=False, \n",
    "                                        contour_color='0.70',wg=PI_all,lev_max=0,shallow=True,standalone=False)\n",
    "plot_metastable_sets(plt,cl_obj,best_micro,MSM_dims,dim,mstate_color,msize=10,annotate=True, textsize=25)\n",
    "#plot_metastable_sets(plt,cl_obj,bm_states,MSM_dims,dim,mstate_color,msize=10,annotate=True, textsize=25)\n",
    "#plot_metastable_sets(plt,cl_obj,top_sets_all,MSM_dims,dim,mstate_color,msize=8,annotate=True,textsize=16)\n",
    "\n",
    "ax=plt.subplot(gs[1])\n",
    "dim=[5,6]\n",
    "plt=plot_weighted_free_energy_landscape(Z,plt,dim[0],dim[1],Zlabels,fill=False,contour_label=False, \n",
    "                                        contour_color='0.70',wg=PI_all,lev_max=0,shallow=True,standalone=False)\n",
    "\n",
    "#plot_metastable_sets(plt,cl_obj,best_micro,MSM_dims,dim,mstate_color,msize=10,annotate=True,textsize=25)\n",
    "\n",
    "plot_metastable_sets(plt,cl_obj,bm_states,MSM_dims,dim,mstate_color,msize=10,annotate=True, textsize=25)\n",
    "#plot_metastable_sets(plt,cl_obj,top_sets_all,MSM_dims,dim,mstate_color,msize=8,annotate=True,textsize=16)\n",
    "\n",
    "#save_current_fig2(plt, '../figures/best_microstates.png',pad=0.1)\n",
    "\n",
    "plt.show()"
   ]
  },
  {
   "cell_type": "markdown",
   "metadata": {},
   "source": [
    "### Extract and save trajectories of representative Macrostate conformations - from representative microstates and snapshots"
   ]
  },
  {
   "cell_type": "markdown",
   "metadata": {},
   "source": [
    "#### Lambda sorted bestmicrostate snapshots"
   ]
  },
  {
   "cell_type": "code",
   "execution_count": null,
   "metadata": {},
   "outputs": [],
   "source": [
    "#Trajectories are required for this step!\n",
    "\n",
    "# Pre-extracted conformations and their associated data are already present in ../traj/macro_bestmicro_lamsort1000_xtcs - \n",
    "# so this step can be skipped.\n",
    "# To redo this step - download all xtc trajectories from zenodo first and uncomment following commands within this cell\n",
    "\n",
    "######################################\n",
    "#inp = coor.source(traj_list, feat)\n",
    "#systems=['c1','c1b','c2','c3','c4','c5']\n",
    "#mac_mic=np.array([[0,0],[0,1],[1,0],[2,0],[3,0],[4,0]])\n",
    "#macro_dir='../traj/macro_bestmicro_lamsort1000_xtcs'\n",
    "#\n",
    "#for i in range(len(systems)):\n",
    "#    file_prefix=macro_dir+'/hmm_'+str(systems[i])\n",
    "#    macro_state=mac_mic[i,0]\n",
    "#    micro_state=top_sets[macro_state][mac_mic[i,1]]\n",
    "#    mic_centroid=cl_obj.clustercenters[micro_state]\n",
    "#    micro_confs, all_snaps=micro_snap_extractor(macro_state, Xdist, [micro_state], lambda_dtrajs)\n",
    "#    \n",
    "#    sort_all_snaps, sort_all_lam=lamsort_all_snaps(mic_centroid,all_snaps)\n",
    "#    snaps, trajcounts, snaps_m=msm_conformation_selection(inp,\n",
    "#                                                     sims_array,sort_all_snaps[:1000,:],sample=False,\n",
    "#                                                      datfile=str(file_prefix)+'.dat',\n",
    "#                                                      xtcfile=str(file_prefix)+'.xtc',\n",
    "#                                                      mlabelfile=str(file_prefix)+'.mlabel.dat')\n",
    "    "
   ]
  },
  {
   "cell_type": "markdown",
   "metadata": {},
   "source": [
    "## Analyzing extracted/representative trajectories"
   ]
  },
  {
   "cell_type": "code",
   "execution_count": null,
   "metadata": {},
   "outputs": [],
   "source": [
    "# Analysis types:\n",
    "# 0. Visual analysis of best 100 representative snapshots\n",
    "# 1. lambda_x - comparison with previous paper\n",
    "# 2. Curl analysis a-b analysis\n",
    "# 3. RMSD w.r.t. semi-open and closed structures\n",
    "# 4. distance-distance map\n",
    "# 5. Volumetric density plots\n"
   ]
  },
  {
   "cell_type": "markdown",
   "metadata": {},
   "source": [
    "### Extract Concatenated Feature data for representative snapshots of each macrostate"
   ]
  },
  {
   "cell_type": "code",
   "execution_count": null,
   "metadata": {},
   "outputs": [],
   "source": [
    "#sys_id=0\n",
    "#Zdata,snap_inds, snaps=conformation_data(sys_id, systems, macro_dir)        \n",
    "#print(np.shape(Zdata))\n",
    "#print(top_sets)\n",
    "#print(snap_inds.reshape(-1,1))\n",
    "#plot([(x+1)/10 for x in range(100)],Z[Zind,13],'r')\n",
    "\n",
    "\n",
    "systems=['c1','c1b','c2','c3','c4','c5']\n",
    "macro_dir='../traj/macro_bestmicro_lamsort1000_xtcs'\n",
    "\n",
    "ZD=np.empty((1000,8,0))\n",
    "SI=np.empty((1000,0))\n",
    "S=np.empty((1000,2,0))\n",
    "\n",
    "microstates=np.array([79,12,98,2,1,6])\n",
    "\n",
    "for i in range(len(systems)):\n",
    "    Zdata,snap_inds, snaps=conformation_data(Z, i, systems, macro_dir,sims_array)  \n",
    "    \n",
    "    #Proximity of cylindrical coords to centroid of a defined microstate\n",
    "    #mic_centroid=cl_obj.clustercenters[microstates[i]]\n",
    "    #dist=np.linalg.norm(Zdata[:,13:]-mic_centroid,axis=1).reshape(-1,1)\n",
    "\n",
    "    #Proximity of lam cartesian coords to centroid of a defined microstate\n",
    "    th_off=50\n",
    "    mic_centroid=lambda_cl_obj.clustercenters[microstates[i]]\n",
    "    mic_centroid_xyz=np.array([ mic_centroid[0]*np.cos(pi*(mic_centroid[1]+th_off)/180), \n",
    "                               mic_centroid[0]*np.sin(pi*(mic_centroid[1]+th_off)/180), mic_centroid[2] ])\n",
    "    \n",
    "    dist=np.linalg.norm(Zdata[:,4:]-mic_centroid,axis=1).reshape(-1,1)\n",
    "    dist_xyz=np.linalg.norm(Zdata[:,:3]-mic_centroid_xyz,axis=1).reshape(-1,1)\n",
    "\n",
    "    \n",
    "    Zdata=np.hstack((Zdata, dist_xyz))\n",
    "    \n",
    "    ZD=np.dstack((ZD,Zdata))\n",
    "    SI=np.hstack((SI,snap_inds.reshape(-1,1)))\n",
    "    S=np.dstack((S,snaps))\n",
    "    \n",
    "#print(np.shape(ZD[:,:,0]))\n",
    "#print(ZD[:,:,0])"
   ]
  },
  {
   "cell_type": "markdown",
   "metadata": {},
   "source": [
    "### Visual Analysis"
   ]
  },
  {
   "cell_type": "code",
   "execution_count": null,
   "metadata": {},
   "outputs": [],
   "source": [
    "fig = plt.figure(figsize=(18, 4)) \n",
    "fig.subplots_adjust(hspace=0.4, wspace=0.2)\n",
    "gs = gridspec.GridSpec(2, 6)\n",
    "\n",
    "\n",
    "gs_id=0\n",
    "for i in range(len(systems)):\n",
    "    ax=plt.subplot(gs[gs_id])\n",
    "    ax.axis(\"off\")\n",
    "    img = mpimg.imread('../figures/conf_figs/png/'+str(systems[i])+'_top.png')\n",
    "    imgplot = plt.imshow(img)\n",
    "    \n",
    "    plt.xticks([],fontsize=10, rotation=0)\n",
    "    plt.yticks([],fontsize=10, rotation=0)\n",
    "    \n",
    "    gs_id+=1\n",
    "    \n",
    "for i in range(len(systems)):\n",
    "    ax=plt.subplot(gs[gs_id])\n",
    "    ax.axis(\"off\")\n",
    "    img = mpimg.imread('../figures/conf_figs/png/'+str(systems[i])+'_side.png')\n",
    "    imgplot = plt.imshow(img)\n",
    "    fig.set_facecolor(\"white\")\n",
    "    \n",
    "    plt.xticks([],fontsize=10, rotation=0)\n",
    "    plt.yticks([],fontsize=10, rotation=0)\n",
    "    \n",
    "    gs_id+=1\n",
    "\n",
    "#save_figure('best_micro_extracted_snapshots.png')    \n",
    "    \n",
    "plt.show()\n",
    "\n",
    "\n"
   ]
  },
  {
   "cell_type": "markdown",
   "metadata": {},
   "source": [
    "### Plot 1D Feature Data histogram distribution for extracted snapshots of each conformation"
   ]
  },
  {
   "cell_type": "markdown",
   "metadata": {},
   "source": [
    "#### Lambda distribution "
   ]
  },
  {
   "cell_type": "code",
   "execution_count": null,
   "metadata": {},
   "outputs": [],
   "source": [
    "# Metric id follows Zlabels\n",
    "#Zlabels=[\"$\\lambda_{x}$ (\\AA)\",\"$\\lambda_{y}$ (\\AA)\",\"$\\lambda_{z}$ (\\AA)\",\n",
    "#        \"$\\\\alpha$ (\\AA)\",\"$\\\\beta$ (\\AA)\", \"$\\delta$ (\\AA)\",\n",
    "#        \"$\\epsilon_{1}$ (\\AA)\",\"$\\epsilon_{2}$ (\\AA)\", \n",
    "#        \"$\\kappa_{12}$ (\\AA)\", \"$\\kappa_{11}$ (\\AA)\", \"$\\kappa_{21}$ (\\AA)\", \"$\\kappa_{22}$ (\\AA)\",\n",
    "#        \"$\\lambda$ (\\AA)\",\"$\\lambda_{r}$ (\\AA)\",\"$\\lambda_{\\Theta}$ ($^{\\circ}$)\",\"$\\lambda_{z}$ (\\AA)\"]\n",
    "\n",
    "fig = plt.figure(figsize=(18, 2)) \n",
    "fig.subplots_adjust(hspace=0.6, wspace=0.4)\n",
    "gs = gridspec.GridSpec(1, 6)\n",
    "\n",
    "\n",
    "metric=3\n",
    "metric_bounds=[0,40,10]\n",
    "y_range=[0,1.2]\n",
    "y_ticks=[0.5,1]\n",
    "\n",
    "metric_range=metric_bounds[:2]\n",
    "metric_ticks=[x for x in range(metric_bounds[0],metric_bounds[1],metric_bounds[2])]\n",
    "D_space=np.array([y/10 for y in range(metric_bounds[0]*10,metric_bounds[1]*10,1)])\n",
    "h=0.3\n",
    "for i in range(len(systems)):\n",
    "    ax=distribution_plot(gs[i],ZD,metric,i,D_space,h,'k') \n",
    "    ax=timeseries_axes(ax,metric_range,y_range,metric_ticks,y_ticks,None,None)\n",
    "\n",
    "#print(D)\n",
    "#ax1.hist(D, bins=D_plot,orientation='vertical',density=True,color='maroon',alpha=1,histtype='step')\n",
    "#ax1.fill_betweenx(yrange,epan, fc='maroon',alpha=0.2)\n",
    "\n"
   ]
  },
  {
   "cell_type": "markdown",
   "metadata": {},
   "source": [
    "### RMSD Analysis"
   ]
  },
  {
   "cell_type": "code",
   "execution_count": null,
   "metadata": {},
   "outputs": [],
   "source": [
    "rmsd_so=np.empty((1000,5,0))\n",
    "rmsd_cl=np.empty((1000,5,0))\n",
    "ref_prmtop='../reference/protein.prmtop'\n",
    "ref_pdb='../reference/protein.pdb'\n",
    "cl_prmtop='../reference/p2nc/protein.prmtop'\n",
    "cl_pdb='../reference/p2nc/protein.pdb'\n",
    "\n",
    "for i in range(len(systems)):\n",
    "    r_so=rmsd_analysis(i,systems, macro_dir, ref_prmtop, ref_pdb, ref_prmtop)\n",
    "    r_cl=rmsd_analysis(i,systems, macro_dir, cl_prmtop, cl_pdb, ref_prmtop)\n",
    "    \n",
    "    rmsd_so=np.dstack((rmsd_so,r_so))\n",
    "    rmsd_cl=np.dstack((rmsd_cl,r_cl))\n",
    "    \n",
    "    \n",
    "#print(rmsd_cl[:,:,3])"
   ]
  },
  {
   "cell_type": "code",
   "execution_count": null,
   "metadata": {},
   "outputs": [],
   "source": [
    "fig = plt.figure(figsize=(18, 2)) \n",
    "fig.subplots_adjust(hspace=0.6, wspace=0.4)\n",
    "gs = gridspec.GridSpec(1, 6)\n",
    "\n",
    "D_space=np.array([y/10 for y in range(0,150,1)])\n",
    "h=0.3\n",
    "metric_range=[0,15]\n",
    "metric_ticks=[x for x in range(0,15,5)]\n",
    "y_range=[0,1.2]\n",
    "y_ticks=[0.5,1]\n",
    "\n",
    "\n",
    "\n",
    "for i in range(len(systems)):\n",
    "    ax=distribution_plot(gs[i],rmsd_cl,4,i,D_space,h,'k',alph=0.5)\n",
    "    ax=distribution_plot(gs[i],rmsd_so,4,i,D_space,h,'r',alph=0.5) \n",
    "    ax=timeseries_axes(ax,metric_range,y_range,metric_ticks,y_ticks,None,None)\n",
    "\n",
    "\n",
    "\n",
    "#save_figure('best_micro_rmsd.png')\n",
    "\n",
    "#Print mean and std of each conformation\n",
    "print(np.mean(rmsd_so[:,:,4],axis=0),np.std(rmsd_so[:,:,4],axis=0))\n"
   ]
  },
  {
   "cell_type": "markdown",
   "metadata": {},
   "source": [
    "### Analysis of Volmap calculated dx files for all macrostates"
   ]
  },
  {
   "cell_type": "code",
   "execution_count": null,
   "metadata": {},
   "outputs": [],
   "source": [
    "#### Load grid files in a given vomap directory - for all macrostates\n",
    "\n",
    "Dlist=[]\n",
    "for i in range(len(systems)):\n",
    "    dxfile=\"../volmap/\"+systems[i]+\".dx\"\n",
    "    D = density.Density(dxfile)\n",
    "    Dlist.append(D)\n",
    "\n",
    "\n",
    "#### Load grid files for reference structure - closed bound complex p2nc avg of 1000 snapshots in traj 1\n",
    "\n",
    "Rlist=[]\n",
    "dxpath=\"../volmap/\"\n",
    "dxfile=dxpath+\"r.dx\"\n",
    "D = density.Density(dxfile)\n",
    "Rlist.append(D)\n",
    "dxfile=dxpath+\"p.dx\"\n",
    "D = density.Density(dxfile)\n",
    "Rlist.append(D)\n",
    "dxfile=dxpath+\"rcom.dx\"\n",
    "D = density.Density(dxfile)\n",
    "Rlist.append(D)"
   ]
  },
  {
   "cell_type": "markdown",
   "metadata": {},
   "source": [
    "#### Volmap of closed flap HIV-1 protease with bound p2-NC substrate averaged over MD simulation"
   ]
  },
  {
   "cell_type": "code",
   "execution_count": null,
   "metadata": {},
   "outputs": [],
   "source": [
    "D1=Rlist[0]\n",
    "D2=Rlist[1]\n",
    "#dim=0:x axis, y-z cross section - Lateral side\n",
    "#dim=1:y axis, x-z cross section - Lateral face\n",
    "#dim=2:z axis, x-y cross section - Top down\n",
    "#dim=0\n",
    "#extent=0\n",
    "fig = plt.figure(figsize=(18, 6))\n",
    "fig.subplots_adjust(hspace=0.2, wspace=0.3)\n",
    "gs = gridspec.GridSpec(1, 3)\n",
    "ax = plt.subplot(gs[0])\n",
    "plt=plot_cross_section_overlay(plt, D1, D2, 2, 8,cmp1='binary',cmp2='Reds',overlay=True,flip=True,fsize=20)\n",
    "ax = plt.subplot(gs[1])\n",
    "plt=plot_cross_section_overlay(plt, D1, D2, 1, 0,cmp1='binary',cmp2='Reds',overlay=True,flip=True,fsize=20)\n",
    "ax = plt.subplot(gs[2])\n",
    "plt=plot_cross_section_overlay(plt, D1, D2, 0, 0,cmp1='binary',cmp2='Reds',overlay=True,flip=True,fsize=20)\n",
    "\n",
    "#plt=plot_cross_section_overlay(plt, D1, D2, 0, 0,cmp1='binary',cmp2='Reds',overlay=False,flip=True)\n",
    "\n",
    "fig.text(0.14,0.72,'A',fontsize=40,rotation=0)\n",
    "fig.text(0.42,0.72,'B',fontsize=40,rotation=0)\n",
    "fig.text(0.7,0.72,'C',fontsize=40,rotation=0)\n",
    "\n",
    "fig.text(0.215,0.25,'z = 8 \\AA',fontsize=20,rotation=0)\n",
    "fig.text(0.495,0.25,'y = 0 \\AA',fontsize=20,rotation=0)\n",
    "fig.text(0.775,0.25,'x = 0 \\AA',fontsize=20,rotation=0)\n",
    "\n",
    "#plt.colorbar()\n",
    "\n",
    "#Xtic,Xlab=make_ticks(D,0,20)\n",
    "#Ytic,Ylab=make_ticks(D,1,20,-1)\n",
    "#plt.xticks(Xtic,Xlab,fontsize=10, rotation=0)\n",
    "#plt.yticks(Ytic,Ylab,fontsize=10, rotation=0)\n",
    "\n",
    "\n",
    "#save_current_fig2(plt, '../figures/volplots_closed_bound_p2nc.png')\n",
    "\n",
    "\n",
    "plt.show()\n",
    "\n"
   ]
  },
  {
   "cell_type": "markdown",
   "metadata": {},
   "source": [
    "### Volmap of superposition of of p2-NC reference peptide with average of extracted macrostate conformations "
   ]
  },
  {
   "cell_type": "markdown",
   "metadata": {},
   "source": [
    "#### Single cross-sectional plane"
   ]
  },
  {
   "cell_type": "code",
   "execution_count": null,
   "metadata": {},
   "outputs": [],
   "source": [
    "fig = plt.figure(figsize=(24, 18)) \n",
    "fig.subplots_adjust(hspace=0.4, wspace=0.4)\n",
    "gs = gridspec.GridSpec(5, 6)\n",
    "\n",
    "\n",
    "dim=1\n",
    "h_array=[[8,4,0,-4], [4,2,0,-2],[16,12,8,4]]\n",
    "h_list=h_array[dim]\n",
    "\n",
    "gs_id=0\n",
    "for j in h_list:\n",
    "\n",
    "    extent=j\n",
    "    for i in range(len(systems)):\n",
    "\n",
    "        ax = plt.subplot(gs[gs_id])        \n",
    "        D1=Dlist[i]\n",
    "        D2=Rlist[1]\n",
    "        plt=plot_cross_section_overlay(plt, D1, D2, dim, extent,cmp1='binary',cmp2='Reds',overlay=True,fsize=20)\n",
    "\n",
    "        gs_id+=1\n",
    "\n",
    "plt.show()"
   ]
  },
  {
   "cell_type": "markdown",
   "metadata": {},
   "source": [
    "#### All three cross-sectional planes - xy,xz,yz"
   ]
  },
  {
   "cell_type": "code",
   "execution_count": null,
   "metadata": {
    "scrolled": true
   },
   "outputs": [],
   "source": [
    "systems=['c1','c1b','c2','c3','c4','c5']\n",
    "#macro_dir='macro_bestmicro_lamsort100_xtcs'\n",
    "\n",
    "fig = plt.figure(figsize=(24, 18)) \n",
    "fig.subplots_adjust(hspace=0.4, wspace=0.4)\n",
    "gs = gridspec.GridSpec(5, 6)\n",
    "\n",
    "\n",
    "#h_array=[[8,4,0,-4], [4,2,0,-2],[16,12,8,4]]\n",
    "#h_list=h_array[dim]\n",
    "\n",
    "fs=20\n",
    "\n",
    "gs_id=0\n",
    "\n",
    "#First line - Top view z=8\n",
    "dim=2\n",
    "extent=8\n",
    "plt, gs_id = plot_cross_section_systems(plt, systems, gs, gs_id, Dlist, Rlist[1], dim, extent,fs)\n",
    "\n",
    "#Second Line - Top view z=12\n",
    "dim=2\n",
    "extent=12\n",
    "plt, gs_id = plot_cross_section_systems(plt, systems, gs, gs_id, Dlist, Rlist[1], dim, extent,fs)\n",
    "\n",
    "#Third line - Lateral face view y=0\n",
    "dim=1\n",
    "extent=0\n",
    "plt, gs_id = plot_cross_section_systems(plt, systems, gs, gs_id, Dlist, Rlist[1], dim, extent,fs)\n",
    "\n",
    "#Fourth line - Lateral side view x=0\n",
    "dim=0\n",
    "extent=0\n",
    "plt, gs_id = plot_cross_section_systems(plt, systems, gs, gs_id, Dlist, Rlist[1], dim, extent,fs)\n",
    "\n",
    "\n",
    "#save_current_fig2(plt, '../figures/volplots.png')\n",
    "\n",
    "plt.show()"
   ]
  },
  {
   "cell_type": "markdown",
   "metadata": {},
   "source": [
    "## Structural Characterization - Compiled Master Figure"
   ]
  },
  {
   "cell_type": "code",
   "execution_count": null,
   "metadata": {},
   "outputs": [],
   "source": [
    "fig = plt.figure(figsize=(24, 30)) \n",
    "fig.subplots_adjust(hspace=0.4, wspace=0.4)\n",
    "gs = gridspec.GridSpec(8, 6)\n",
    "\n",
    "gs_id=0\n",
    "\n",
    "# Line 1\n",
    "orient=\"top\"\n",
    "plt,gs_id = plot_structures_systems(plt, systems, gs, gs_id,orient)\n",
    "\n",
    "#Line 2\n",
    "orient=\"side\"\n",
    "plt,gs_id = plot_structures_systems(plt, systems, gs, gs_id,orient)\n",
    "\n",
    "#Line 3 - RMSD w.r.t. semi-open and closed\n",
    "D_space=np.array([y/10 for y in range(0,150,1)])\n",
    "h=0.3\n",
    "metric_range=[0,15]\n",
    "metric_ticks=[x for x in range(0,15,5)]\n",
    "y_range=[0,1.2]\n",
    "y_ticks=[0.5,1]\n",
    "\n",
    "for i in range(len(systems)):\n",
    "    ax=distribution_plot(gs[gs_id],rmsd_cl,4,i,D_space,h,'m',alph=0.5)\n",
    "    ax=distribution_plot(gs[gs_id],rmsd_so,4,i,D_space,h,'b',alph=0.8) \n",
    "    ax=timeseries_axes(ax,metric_range,y_range,metric_ticks,y_ticks,r'$d_{RMS}$ (\\AA)',r'$\\rho(d)$')\n",
    "    \n",
    "    gs_id+=1\n",
    "\n",
    "    \n",
    "#Line 4 - lambda\n",
    "\n",
    "metric=3\n",
    "metric_bounds=[0,40,10]\n",
    "y_range=[0,1.2]\n",
    "y_ticks=[0.5,1]\n",
    "\n",
    "metric_range=metric_bounds[:2]\n",
    "metric_ticks=[x for x in range(metric_bounds[0],metric_bounds[1],metric_bounds[2])]\n",
    "D_space=np.array([y/10 for y in range(metric_bounds[0]*10,metric_bounds[1]*10,1)])\n",
    "h=0.3\n",
    "for i in range(len(systems)):\n",
    "    ax=distribution_plot(gs[gs_id],ZD,metric,i,D_space,h,'k',alph=0.5) \n",
    "    ax=timeseries_axes(ax,metric_range,y_range,metric_ticks,y_ticks,r'$\\lambda $ (\\AA)',r'$\\rho(\\lambda)$')\n",
    "\n",
    "    gs_id+=1\n",
    "    \n",
    "    \n",
    "fs=20\n",
    "\n",
    "#Line 5 - Top view z=8\n",
    "dim=2\n",
    "extent=8\n",
    "plt, gs_id = plot_cross_section_systems(plt, systems, gs, gs_id, Dlist, Rlist[1], dim, extent,fs)\n",
    "\n",
    "fig.text(0.91,0.44,'z = 8 \\AA',fontsize=20,rotation=90)\n",
    "\n",
    "#Line 6 - Top view z=12\n",
    "dim=2\n",
    "extent=12\n",
    "plt, gs_id = plot_cross_section_systems(plt, systems, gs, gs_id, Dlist, Rlist[1], dim, extent,fs)\n",
    "\n",
    "fig.text(0.91,0.34,'z = 12 \\AA',fontsize=20,rotation=90)\n",
    "\n",
    "#Line 7 - Lateral face view y=0\n",
    "dim=1\n",
    "extent=0\n",
    "plt, gs_id = plot_cross_section_systems(plt, systems, gs, gs_id, Dlist, Rlist[1], dim, extent,fs)\n",
    "\n",
    "fig.text(0.91,0.24,'y = 0 \\AA',fontsize=20,rotation=90)\n",
    "\n",
    "\n",
    "#Line 8 - Lateral side view x=0\n",
    "dim=0\n",
    "extent=0\n",
    "plt, gs_id = plot_cross_section_systems(plt, systems, gs, gs_id, Dlist, Rlist[1], dim, extent,fs)\n",
    "\n",
    "fig.text(0.91,0.14,'x = 0 \\AA',fontsize=20,rotation=90)\n",
    "\n",
    "fig.text(0.15,0.90,'C1a',fontsize=40)\n",
    "fig.text(0.30,0.90,'C1b',fontsize=40)\n",
    "fig.text(0.43,0.90,'C2',fontsize=40)\n",
    "fig.text(0.56,0.90,'C3',fontsize=40)\n",
    "fig.text(0.70,0.90,'C4',fontsize=40)\n",
    "fig.text(0.84,0.90,'C5',fontsize=40)\n",
    "\n",
    "fig.text(0.05,0.85,'A',fontsize=50)\n",
    "fig.text(0.05,0.75,'B',fontsize=50)\n",
    "fig.text(0.05,0.65,'C',fontsize=50)\n",
    "fig.text(0.05,0.55,'D',fontsize=50)\n",
    "fig.text(0.05,0.45,'E',fontsize=50)\n",
    "fig.text(0.05,0.35,'F',fontsize=50)\n",
    "fig.text(0.05,0.25,'G',fontsize=50)\n",
    "fig.text(0.05,0.15,'H',fontsize=50)\n",
    "\n",
    "\n",
    "#save_current_fig2(plt,'../figures/structural_characterization.png')\n",
    "\n",
    "plt.show()\n",
    "\n",
    "\n"
   ]
  },
  {
   "cell_type": "markdown",
   "metadata": {},
   "source": [
    "## Residue-Residue Interaction Analysis"
   ]
  },
  {
   "cell_type": "markdown",
   "metadata": {},
   "source": [
    "### Flap-Opposite Monomer Sidechain-Sidechain Analysis for a given conformation"
   ]
  },
  {
   "cell_type": "code",
   "execution_count": null,
   "metadata": {},
   "outputs": [],
   "source": [
    "#Macrostate id: 0-5 corresponds to C1 (C1b)-C5 respectively\n",
    "mac_id=0\n",
    "ref_prmtop='../reference/protein.prmtop'\n",
    "u=load_universe(mac_id,systems,macro_dir, ref_prmtop)\n",
    "reslim_a=[43, 58]\n",
    "reslim_b=[100, 198]\n",
    "sidechain=\"not name H* and not name N CA O OX*\"\n",
    "min_c=general_min_dist_matrix(u, u,reslim_a,reslim_b,sidechain,\n",
    "                              mfa=True,ax_points1=HIVPR_ax_points(u),ax_points2=HIVPR_ax_points(u))\n",
    "resid_array=close_interactions(min_c,reslim_a,reslim_b,10)\n",
    "C_mind,C_stats=res_res_array_min_sidechain_distance_trajectory(u, u, resid_array,sidechain)\n",
    "#Reconvert monB\n",
    "C_stats[:,1]-=99\n",
    "#print(C_stats[C_stats[:,2]<=5,:])\n",
    "\n",
    "reslim_a=[1, 99]\n",
    "reslim_b=[142, 157]\n",
    "sidechain=\"not name H* and not name N CA O OX*\"\n",
    "min_c_rev=general_min_dist_matrix(u, u,reslim_a,reslim_b,sidechain,\n",
    "                              mfa=True,ax_points1=HIVPR_ax_points(u),ax_points2=HIVPR_ax_points(u))\n",
    "resid_array=close_interactions(min_c_rev,reslim_a,reslim_b,10)\n",
    "C_mind_rev,C_stats_rev=res_res_array_min_sidechain_distance_trajectory(u, u, resid_array,sidechain)\n",
    "#Reconvert monB\n",
    "C_stats_rev[:,1]-=99\n",
    "#print(C_stats[C_stats[:,2]<=5,:])\n",
    "\n",
    "C_stats_all=np.unique(np.vstack((C_stats,C_stats_rev)),axis=0)\n",
    "#print(np.unique(C_stats_all,axis=0))\n",
    "\n",
    "print(C_stats_all[C_stats_all[:,2]<=5.5,:])"
   ]
  },
  {
   "cell_type": "markdown",
   "metadata": {},
   "source": [
    "### Flap-Opposite Monomer Hydrogen bond analysis for a given conformation "
   ]
  },
  {
   "cell_type": "code",
   "execution_count": null,
   "metadata": {},
   "outputs": [],
   "source": [
    "#Macrostate id: 0-5 corresponds to C1 (C1b)-C5 respectively\n",
    "mac_id=0\n",
    "ref_prmtop='../reference/protein.prmtop'\n",
    "u=load_universe(mac_id,systems,macro_dir,ref_prmtop)\n",
    "hbonds = HBA(universe=u)\n",
    "hbonds.d_a_cutoff=3.5\n",
    "hbonds.d_h_a_angle_cutoff=150\n",
    "hbonds.donors_sel='name N'\n",
    "hbonds.hydrogens_sel='name H'\n",
    "hbonds.acceptors_sel='name O'\n",
    "#hbonds.donors_sel = hbonds.guess_donors(\"protein and resid 43:58\")\n",
    "#hbonds.hydrogens_sel = hbonds.guess_hydrogens(\"protein and resid 43:58\")\n",
    "#hbonds.acceptors_sel = hbonds.guess_acceptors(\"protein and resid 100:198\")\n",
    "\n",
    "hbonds.run()\n",
    "hbdat=hbonds.hbonds\n",
    "atmlist=hbond_atom_definitions(u,hbdat)\n",
    "hbdat_atms=join_atom_defs_to_hbond_data(hbdat,atmlist)\n"
   ]
  },
  {
   "cell_type": "code",
   "execution_count": null,
   "metadata": {},
   "outputs": [],
   "source": [
    "#Flap A with Monomer B\n",
    "reslim1=[43, 58]\n",
    "reslim2=[100, 198]\n",
    "unique_hb_list,hb_combo=unique_subset_hbond_data(hbdat_atms,reslim1,reslim2)\n",
    "#print(unique_hb_list)\n",
    "\n",
    "#Flap B with Monomer A\n",
    "reslim1=[1, 99]\n",
    "reslim2=[142, 157]\n",
    "unique_hb_list_rev,hb_combo_rev=unique_subset_hbond_data(hbdat_atms,reslim1,reslim2)\n",
    "#print(unique_hb_list_rev)\n",
    "\n",
    "#Combine lists\n",
    "un_hb_list_all=np.unique(np.vstack((unique_hb_list,unique_hb_list_rev)).astype('U21'),axis=0)\n",
    "print(un_hb_list_all)\n",
    "\n"
   ]
  }
 ],
 "metadata": {
  "anaconda-cloud": {},
  "kernelspec": {
   "display_name": "Python 3",
   "language": "python",
   "name": "python3"
  },
  "language_info": {
   "codemirror_mode": {
    "name": "ipython",
    "version": 3
   },
   "file_extension": ".py",
   "mimetype": "text/x-python",
   "name": "python",
   "nbconvert_exporter": "python",
   "pygments_lexer": "ipython3",
   "version": "3.8.5"
  }
 },
 "nbformat": 4,
 "nbformat_minor": 4
}
